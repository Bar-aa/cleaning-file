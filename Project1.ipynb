{
 "cells": [
  {
   "cell_type": "code",
   "execution_count": 247,
   "id": "1e5ca23a",
   "metadata": {},
   "outputs": [],
   "source": [
    "import tkinter as tk"
   ]
  },
  {
   "cell_type": "code",
   "execution_count": 248,
   "id": "dc11da49",
   "metadata": {},
   "outputs": [],
   "source": [
    "def read_file (path):\n",
    "    with open(path,  'r')  as fp:\n",
    "        for line in fp:\n",
    "            yield line\n",
    "def process_lines (file_path):\n",
    "    for line in read_file(file_path):\n",
    "        words_in_line = line.split(',')\n",
    "        yield words_in_line"
   ]
  },
  {
   "cell_type": "code",
   "execution_count": 249,
   "id": "dc085c01",
   "metadata": {},
   "outputs": [],
   "source": [
    "line=process_lines(r\"C:\\Users\\baraa\\jupyter\\unclean_data - unclean_data.csv (1).csv\")\n"
   ]
  },
  {
   "cell_type": "code",
   "execution_count": 250,
   "id": "f9dc8827",
   "metadata": {},
   "outputs": [],
   "source": [
    "def red_info():\n",
    "    InTheLine =next (line)\n",
    "    if InTheLine[0]==\"<information>\":\n",
    "        InTheLine =next (line)\n",
    "        InTheLine=\"\".join(InTheLine)\n",
    "        date=InTheLine.split (\": \")[1]\n",
    "        InTheLine =next (line)\n",
    "        InTheLine=\"\".join(InTheLine)\n",
    "        col=InTheLine.split (\": \")[1]\n",
    "        next (line)\n",
    "        read_darta(col,date)\n",
    "    else :\n",
    "        # Create the main window\n",
    "        root = tk.Tk()\n",
    "        root.title(\"File Information\")\n",
    "        # Add the text label\n",
    "        text_label = tk.Label(root, text=\"the information part is not exist\", font=(\"Arial\", 16))\n",
    "        text_label.pack(pady=20)\n",
    "        # Center the window on the screen\n",
    "        screen_width = root.winfo_screenwidth()\n",
    "        screen_height = root.winfo_screenheight()\n",
    "        x = (screen_width - root.winfo_reqwidth()) // 2\n",
    "        y = (screen_height - root.winfo_reqheight()) // 2\n",
    "        root.geometry(f\"+{x}+{y}\")\n",
    "        root.mainloop()"
   ]
  },
  {
   "cell_type": "code",
   "execution_count": 251,
   "id": "3ac3e6db",
   "metadata": {},
   "outputs": [],
   "source": [
    "def read_darta(col, date):\n",
    "    col = int(col)   \n",
    "    filename = \"clean_v.csv\" #f\"{date}clean_v.csv\"  # It didn't work and I didn't understand why  \n",
    "    #print (type(date)) #<class 'str'>\n",
    "    InTheLine = next(line, None)  \n",
    "    if InTheLine and InTheLine[0] == \"<data>\":\n",
    "        with open(filename, 'w') as new_file:  \n",
    "            while InTheLine:\n",
    "                InTheLine = next(line, None)  \n",
    "                if InTheLine and InTheLine[0] != \"</data>\":\n",
    "                    if InTheLine[0]:  \n",
    "                        data = InTheLine[:col]  \n",
    "                        data = ['\\\"missing data\\\"' if cell == '' else cell for cell in data]  \n",
    "                        new_file.write(','.join(data) + '\\n')  \n",
    "    else:\n",
    "        root = tk.Tk()\n",
    "        root.title(\"File Data\")\n",
    "        text_label = tk.Label(root, text=\"the data part is not exist\", font=(\"Arial\", 16))\n",
    "        text_label.pack(pady=20)\n",
    "        screen_width = root.winfo_screenwidth()\n",
    "        screen_height = root.winfo_screenheight()\n",
    "        x = (screen_width - root.winfo_reqwidth()) // 2\n",
    "        y = (screen_height - root.winfo_reqheight()) // 2\n",
    "        root.geometry(f\"+{x}+{y}\")\n",
    "        root.mainloop()\n"
   ]
  },
  {
   "cell_type": "code",
   "execution_count": 252,
   "id": "09241c8b",
   "metadata": {},
   "outputs": [],
   "source": [
    "def read_all_file():\n",
    "    red_info()"
   ]
  },
  {
   "cell_type": "code",
   "execution_count": 253,
   "id": "d91ab05e",
   "metadata": {},
   "outputs": [],
   "source": [
    "read_all_file()"
   ]
  }
 ],
 "metadata": {
  "kernelspec": {
   "display_name": "Python 3 (ipykernel)",
   "language": "python",
   "name": "python3"
  },
  "language_info": {
   "codemirror_mode": {
    "name": "ipython",
    "version": 3
   },
   "file_extension": ".py",
   "mimetype": "text/x-python",
   "name": "python",
   "nbconvert_exporter": "python",
   "pygments_lexer": "ipython3",
   "version": "3.11.5"
  }
 },
 "nbformat": 4,
 "nbformat_minor": 5
}
